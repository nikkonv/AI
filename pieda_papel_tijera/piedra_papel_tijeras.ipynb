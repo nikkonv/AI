{
 "cells": [
  {
   "cell_type": "code",
   "execution_count": 7,
   "metadata": {
    "collapsed": false
   },
   "outputs": [
    {
     "name": "stdout",
     "output_type": "stream",
     "text": [
      "piedra  vs  piedra , gana:  0\n",
      "piedra  vs  tijeras , gana:  1\n",
      "papel  vs  tijeras , gana:  2\n"
     ]
    }
   ],
   "source": [
    "options = [\"piedra\",\"tijeras\",\"papel\"]\n",
    "\n",
    "def winner(p1,p2):\n",
    "    if p1 == p2:\n",
    "        result = 0\n",
    "    elif p1 == \"piedra\" and p2 == \"tijeras\":\n",
    "        result = 1\n",
    "    elif p1 == \"piedra\" and p2 == \"papel\":\n",
    "        result = 2\n",
    "    elif p1 == \"tijeras\" and p2 == \"piedra\":\n",
    "        result = 2\n",
    "    elif p1 == \"tijeras\" and p2 == \"papel\":\n",
    "        result = 1\n",
    "    elif p1 == \"papel\" and p2 == \"piedra\":\n",
    "        result = 2\n",
    "    elif p1 == \"papel\" and p2 == \"tijeras\":\n",
    "        result = 2\n",
    "    return result\n",
    "\n",
    "test = [\n",
    "    \n",
    "    [\"piedra\",\"piedra\", 0],\n",
    "    [\"piedra\",\"tijeras\",1],\n",
    "    [\"papel\",\"tijeras\",2]\n",
    "]\n",
    "\n",
    "for p in test:\n",
    "    print(p[0],\" vs \",p[1],\", gana: \",winner(p[0],p[1]))"
   ]
  },
  {
   "cell_type": "code",
   "execution_count": 10,
   "metadata": {
    "collapsed": false
   },
   "outputs": [
    {
     "name": "stdout",
     "output_type": "stream",
     "text": [
      "piedra tijeras 1\n",
      "piedra papel 2\n",
      "piedra papel 2\n",
      "piedra papel 2\n",
      "tijeras papel 1\n",
      "tijeras papel 1\n",
      "tijeras papel 1\n",
      "piedra piedra 0\n",
      "piedra papel 2\n",
      "piedra papel 2\n"
     ]
    }
   ],
   "source": [
    "from random import choice\n",
    "\n",
    "def get_choice():\n",
    "    return choice(options)\n",
    "\n",
    "for i in range(10):\n",
    "    player1 = get_choice()\n",
    "    player2 = get_choice()\n",
    "    print(player1, player2, winner(player1,player2))"
   ]
  },
  {
   "cell_type": "code",
   "execution_count": 12,
   "metadata": {
    "collapsed": false
   },
   "outputs": [
    {
     "name": "stdout",
     "output_type": "stream",
     "text": [
      "[[1, 0, 0], [0, 1, 0], [0, 0, 1]]\n",
      "[[0, 0, 1], [1, 0, 0], [0, 1, 0]]\n"
     ]
    }
   ],
   "source": [
    "def str_to_list(option):\n",
    "    if option == \"piedra\":\n",
    "        res = [1,0,0]\n",
    "    elif option == \"tijeras\":\n",
    "        res = [0,1,0]\n",
    "    else:\n",
    "        res = [0,0,1]\n",
    "    return res\n",
    "\n",
    "data_x = list(map(str_to_list,[\"piedra\",\"tijeras\",\"papel\"]))\n",
    "data_y = list(map(str_to_list,[\"papel\",\"piedra\",\"tijeras\"]))\n",
    "\n",
    "print (data_x)\n",
    "print (data_y)"
   ]
  },
  {
   "cell_type": "code",
   "execution_count": 13,
   "metadata": {
    "collapsed": true
   },
   "outputs": [],
   "source": [
    "from sklearn.neural_network import MLPClassifier"
   ]
  },
  {
   "cell_type": "code",
   "execution_count": 14,
   "metadata": {
    "collapsed": true
   },
   "outputs": [],
   "source": [
    "clf = MLPClassifier(verbose=False, warm_start=True)\n"
   ]
  },
  {
   "cell_type": "code",
   "execution_count": 16,
   "metadata": {
    "collapsed": false
   },
   "outputs": [
    {
     "name": "stdout",
     "output_type": "stream",
     "text": [
      "MLPClassifier(activation='relu', alpha=0.0001, batch_size='auto', beta_1=0.9,\n",
      "       beta_2=0.999, early_stopping=False, epsilon=1e-08,\n",
      "       hidden_layer_sizes=(100,), learning_rate='constant',\n",
      "       learning_rate_init=0.001, max_iter=200, momentum=0.9,\n",
      "       nesterovs_momentum=True, power_t=0.5, random_state=None,\n",
      "       shuffle=True, solver='adam', tol=0.0001, validation_fraction=0.1,\n",
      "       verbose=False, warm_start=True)\n"
     ]
    },
    {
     "name": "stderr",
     "output_type": "stream",
     "text": [
      "C:\\Users\\Nikko\\AppData\\Local\\conda\\conda\\envs\\py35\\lib\\site-packages\\sklearn\\neural_network\\multilayer_perceptron.py:564: ConvergenceWarning: Stochastic Optimizer: Maximum iterations (200) reached and the optimization hasn't converged yet.\n",
      "  % self.max_iter, ConvergenceWarning)\n"
     ]
    }
   ],
   "source": [
    "model = clf.fit([data_x[0]],[data_y[0]])\n",
    "print (model)"
   ]
  },
  {
   "cell_type": "code",
   "execution_count": 22,
   "metadata": {
    "collapsed": false
   },
   "outputs": [],
   "source": [
    "def play_n_learn(iters = 10, debug=False):\n",
    "    score = {\"win\":0, \"lose\":0}\n",
    "    \n",
    "    data_x = []\n",
    "    data_y = []\n",
    "    \n",
    "    for i in range(iters):\n",
    "        p1 = get_choice()\n",
    "        \n",
    "        pre = model.predict_proba([str_to_list(p1)])[0]\n",
    "        \n",
    "        if pre[0] >= 0.95:\n",
    "            p2 = options[0]\n",
    "        elif pre[1] >= 0.95:\n",
    "            p2 = options[1]\n",
    "        elif pre[2] >= 0.95:\n",
    "            p2 = options[2]\n",
    "        else:\n",
    "            p2 = get_choice()\n",
    "        \n",
    "        if debug == True:\n",
    "            print(\"p1: \",p1,\"p2(red): \",pre,\" resultado: \",p2)\n",
    "        \n",
    "        win = winner(p1,p2)\n",
    "        \n",
    "        if debug == True:\n",
    "            print(\"p1 vs p2: \", win)\n",
    "        \n",
    "        if win == 2:\n",
    "            data_x.append(str_to_list(p1))\n",
    "            data_y.append(str_to_list(p2))\n",
    "            score[\"win\"]+=1\n",
    "        else:\n",
    "            score[\"lose\"]+=1\n",
    "            \n",
    "    return score,data_x,data_y\n",
    "\n"
   ]
  },
  {
   "cell_type": "code",
   "execution_count": 23,
   "metadata": {
    "collapsed": false
   },
   "outputs": [
    {
     "name": "stdout",
     "output_type": "stream",
     "text": [
      "p1:  tijeras p2(red):  [0.17097882 0.17212261 0.83668591]  resultado:  piedra\n",
      "p1 vs p2:  2\n"
     ]
    }
   ],
   "source": [
    "sc, dx, dy = play_n_learn(1,debug=True)"
   ]
  },
  {
   "cell_type": "code",
   "execution_count": 24,
   "metadata": {
    "collapsed": false
   },
   "outputs": [
    {
     "name": "stdout",
     "output_type": "stream",
     "text": [
      "[[0, 1, 0]]\n",
      "[[1, 0, 0]]\n",
      "Score: {'win': 1, 'lose': 0} 100.0 %\n"
     ]
    }
   ],
   "source": [
    "print(dx)\n",
    "print(dy)\n",
    "print(\"Score: %s %s %%\" % (sc,(sc[\"win\"]*100/(sc[\"win\"]+sc[\"lose\"]))))\n",
    "\n",
    "if len(dx):\n",
    "    model = model.partial_fit(dx,dy)"
   ]
  },
  {
   "cell_type": "code",
   "execution_count": null,
   "metadata": {
    "collapsed": false
   },
   "outputs": [],
   "source": [
    "# repetir para el train\n",
    "i = 0\n",
    "hist_pct = []\n",
    "\n",
    "while True:\n",
    "    i+=1\n",
    "    \n",
    "    sc,dx,dy = play_n_learn(1000,debug=False)\n",
    "    pct = (sc[\"win\"]*100/(sc[\"win\"]+sc[\"lose\"]))\n",
    "    \n",
    "    hist_pct.append(pct)\n",
    "    print(\"Iter %s - score: %s %s %%\" % (i,sc,pct))\n",
    "    \n",
    "    if len(dx):\n",
    "        model = model.partial_fit(dx,dy)\n",
    "    if sum(hist_pct[-9:]) == 900:\n",
    "        break\n",
    "    "
   ]
  },
  {
   "cell_type": "code",
   "execution_count": null,
   "metadata": {
    "collapsed": true
   },
   "outputs": [],
   "source": [
    "from bokeh.plotting import figure, show\n",
    "from bokeh.io import push_notebook, show, output_notebook"
   ]
  }
 ],
 "metadata": {
  "anaconda-cloud": {},
  "kernelspec": {
   "display_name": "Python [conda env:py35]",
   "language": "python",
   "name": "conda-env-py35-py"
  },
  "language_info": {
   "codemirror_mode": {
    "name": "ipython",
    "version": 3
   },
   "file_extension": ".py",
   "mimetype": "text/x-python",
   "name": "python",
   "nbconvert_exporter": "python",
   "pygments_lexer": "ipython3",
   "version": "3.5.5"
  }
 },
 "nbformat": 4,
 "nbformat_minor": 1
}
